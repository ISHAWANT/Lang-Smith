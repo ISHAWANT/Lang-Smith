{
 "cells": [
  {
   "cell_type": "code",
   "execution_count": 1,
   "id": "fb5ccf73",
   "metadata": {},
   "outputs": [
    {
     "name": "stdout",
     "output_type": "stream",
     "text": [
      "Welcome to LangSmith!\n"
     ]
    }
   ],
   "source": [
    "print('Welcome to LangSmith!')"
   ]
  },
  {
   "cell_type": "code",
   "execution_count": null,
   "id": "fa705888",
   "metadata": {},
   "outputs": [],
   "source": []
  }
 ],
 "metadata": {
  "kernelspec": {
   "display_name": "langchain",
   "language": "python",
   "name": "python3"
  },
  "language_info": {
   "codemirror_mode": {
    "name": "ipython",
    "version": 3
   },
   "file_extension": ".py",
   "mimetype": "text/x-python",
   "name": "python",
   "nbconvert_exporter": "python",
   "pygments_lexer": "ipython3",
   "version": "3.10.18"
  }
 },
 "nbformat": 4,
 "nbformat_minor": 5
}
